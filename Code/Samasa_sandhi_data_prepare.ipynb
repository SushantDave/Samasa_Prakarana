{
 "cells": [
  {
   "cell_type": "code",
   "execution_count": 12,
   "id": "c117b8e2",
   "metadata": {},
   "outputs": [
    {
     "name": "stdout",
     "output_type": "stream",
     "text": [
      "7\n",
      "7\n"
     ]
    }
   ],
   "source": [
    "import nltk\n",
    "print(nltk.edit_distance('konapaYcASatsahAyA', 'eka-Una-paYcASat-sahAyAH'))\n",
    "print(nltk.edit_distance('EkonapaYcASatsahAyA', 'eka-Una-paYcASat-sahAyAH'))"
   ]
  },
  {
   "cell_type": "code",
   "execution_count": 171,
   "id": "99a86d54",
   "metadata": {},
   "outputs": [
    {
     "name": "stdout",
     "output_type": "stream",
     "text": [
      "224869\n",
      "43473\n",
      "86518\n"
     ]
    }
   ],
   "source": [
    "def indices_in_word_range(indices, word):\n",
    "    if(indices[1] < 0):\n",
    "        indices[1] = indices[1] + len(word)\n",
    "    #print(\"Checking Indices \" + str(indices[0]) + \" and \" + str(indices[1]) + \" in \" + word)\n",
    "    if(0 <= indices[0] and indices[0] <= indices[1] and indices[1] <= len(word)):\n",
    "        return True\n",
    "    else:\n",
    "        return False\n",
    "\n",
    "def indices_in_words(indices, words):\n",
    "    for word in words:\n",
    "        if(not indices_in_word_range(indices, word)):\n",
    "                return False\n",
    "    return True\n",
    "\n",
    "def find_first_non_match_index(inp, out):\n",
    "    charidx = 0\n",
    "    while(inp[charidx] == out[charidx] and charidx in range(-len(inp), len(inp)) and charidx in range(-len(out), len(out))):\n",
    "        charidx = charidx + 1\n",
    "\n",
    "    inp = inp[charidx:]\n",
    "    out = out[charidx:]\n",
    "    revcharidx = 0\n",
    "    while((revcharidx - 1) in range(-len(inp), len(inp)) and (revcharidx - 1) in range(-len(out), len(out)) and inp[revcharidx - 1] == out[revcharidx - 1]):\n",
    "        revcharidx = revcharidx - 1\n",
    "\n",
    "    return (charidx, revcharidx)\n",
    "\n",
    "with open(\"final_data_slp1.csv\", 'r', encoding='utf8') as fp:\n",
    "    iol = fp.readlines()\n",
    "\n",
    "count = 0\n",
    "diffsum = 0.0\n",
    "newlist = []\n",
    "for io in iol:\n",
    "    val = io.split(',')\n",
    "    inp = val[0]\n",
    "    out = val[1]\n",
    "    #print(inp + \" \" + out)\n",
    "    dist = float(val[3])\n",
    "    diffsum = diffsum + dist\n",
    "    if(inp[0] != out[0] or inp[-1] != out[-1] or out.count('-') > 1 or dist > 0.1):\n",
    "        if(inp[0] == out[0] and out.count('-') == 1):\n",
    "            # If only the last character is different\n",
    "            out1 = out[:-1]\n",
    "            out2 = out[:-2]\n",
    "            inp1 = inp[:-1]\n",
    "            inp2 = inp[:-2]\n",
    "            origdist = nltk.edit_distance(inp, out.replace('-', ''))\n",
    "            dist1 = nltk.edit_distance(inp1, out1.replace('-', ''))\n",
    "            dist2 = nltk.edit_distance(inp2, out2.replace('-', ''))\n",
    "            dist01 = nltk.edit_distance(inp, out1.replace('-', ''))\n",
    "            dist12 = nltk.edit_distance(inp1, out2.replace('-', ''))\n",
    "            if(out1[-1] == inp1[-1] and dist1 < origdist):\n",
    "                inp = inp1\n",
    "                out = out1\n",
    "                origdist = dist1\n",
    "            if(out2[-1] == inp2[-1] and dist2 < origdist):\n",
    "                inp = inp2\n",
    "                out = out2\n",
    "                origdist = dist2\n",
    "            if(out1[-1] == inp[-1] and dist01 < origdist):\n",
    "                inp = inp\n",
    "                out = out1\n",
    "                origdist = dist01\n",
    "            elif(out2[-1] == inp1[-1] and dist12 < origdist):\n",
    "                inp = inp1\n",
    "                out = out2\n",
    "                origdist = dist12\n",
    "        elif(inp[-1] == out[-1] and out.count('-') == 1):\n",
    "            out1 = out[1:]\n",
    "            origdist = nltk.edit_distance(inp, out)\n",
    "            dist1 = nltk.edit_distance(inp, out1)\n",
    "            if(out1[0] == inp[0] and dist1 < origdist):\n",
    "                inp = inp\n",
    "                out = out1\n",
    "                dist = dist1\n",
    "        else:\n",
    "            continue\n",
    "\n",
    "    (charidx, revcharidx) = find_first_non_match_index(inp, out)\n",
    "    dist = nltk.edit_distance(inp, out.replace('-', ''))\n",
    "\n",
    "    for loff in range(1, 3):\n",
    "        for roff in range(1, 3):\n",
    "            if indices_in_words([charidx-loff, revcharidx+roff], [inp, out]):\n",
    "                #print(io.strip() + \",\" + inp[charidx-loff:revcharidx+roff] + \",\" + out[charidx-loff:revcharidx+roff])\n",
    "                newlist.append(inp[charidx-loff:revcharidx+roff] + \",\" + out[charidx-loff:revcharidx+roff])\n",
    "                count = count + 1\n",
    "\n",
    "fp = open(\"samasa_split_train_data.csv\", 'w', encoding='utf8')\n",
    "for io in newlist:\n",
    "    fp.write(io+'\\n')\n",
    "fp.close()\n",
    "\n",
    "print(count)\n",
    "print(zcount)\n",
    "print(len(iol))"
   ]
  },
  {
   "cell_type": "code",
   "execution_count": 153,
   "id": "0e68fda3",
   "metadata": {},
   "outputs": [],
   "source": [
    "s= 'arasaH'"
   ]
  },
  {
   "cell_type": "code",
   "execution_count": 161,
   "id": "05d93214",
   "metadata": {},
   "outputs": [
    {
     "data": {
      "text/plain": [
       "'H'"
      ]
     },
     "execution_count": 161,
     "metadata": {},
     "output_type": "execute_result"
    }
   ],
   "source": [
    "s[5]"
   ]
  },
  {
   "cell_type": "code",
   "execution_count": null,
   "id": "e57c9e29",
   "metadata": {},
   "outputs": [],
   "source": []
  }
 ],
 "metadata": {
  "kernelspec": {
   "display_name": "Python 3 (ipykernel)",
   "language": "python",
   "name": "python3"
  },
  "language_info": {
   "codemirror_mode": {
    "name": "ipython",
    "version": 3
   },
   "file_extension": ".py",
   "mimetype": "text/x-python",
   "name": "python",
   "nbconvert_exporter": "python",
   "pygments_lexer": "ipython3",
   "version": "3.11.4"
  }
 },
 "nbformat": 4,
 "nbformat_minor": 5
}
